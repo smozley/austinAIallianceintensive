{
  "cells": [
    {
      "cell_type": "markdown",
      "metadata": {
        "id": "view-in-github",
        "colab_type": "text"
      },
      "source": [
        "<a href=\"https://colab.research.google.com/github/smozley/austinAIallianceintensive/blob/main/multi_agent_orchestration_tutorial_2.ipynb\" target=\"_parent\"><img src=\"https://colab.research.google.com/assets/colab-badge.svg\" alt=\"Open In Colab\"/></a>"
      ]
    },
    {
      "cell_type": "markdown",
      "source": [
        "This tutorial guides you through building a hierarchical, multi-agent system from scratch. You will create a five-agent \"Press Release Team\" orchestrated by a supervisor agent powered by Granite. This supervisor will manage a team of four specialized worker agents—a mix of Granite and Mistral models—who will collaborate in parallel to draft a press release.\n",
        "\n",
        "The entire process uses LangGraph for orchestration, local models via Ollama, and Langfuse for complete end-to-end observability, providing a comprehensive template for building sophisticated AI agent teams.\n",
        "\n",
        "### **Step 1: Setup and Installation**"
      ],
      "metadata": {
        "id": "EEzRraBtcnUg"
      }
    },
    {
      "cell_type": "markdown",
      "source": [
        "### Setting up Ollama (in the terminal window)"
      ],
      "metadata": {
        "id": "VTp_IbuTem1h"
      }
    },
    {
      "cell_type": "markdown",
      "source": [
        "1. Install the dependencies\n",
        "\n",
        "```\n",
        "sudo apt update\n",
        "sudo apt install -y pciutils\n",
        "curl -fsSL https://ollama.com/install.sh | sh\n",
        "```\n",
        "\n",
        "2. Run the ollama server in the background\n",
        "\n",
        "```\n",
        "ollama serve &\n",
        "```\n",
        "\n",
        "3. Pull the required models\n",
        "\n",
        "```\n",
        "ollama pull granite3.3:latest\n",
        "ollama pull mistral:latest\n",
        "```\n",
        "\n",
        "4. Run the models in the background\n",
        "\n",
        "```\n",
        "ollama run granite3.3:latest &\n",
        "ollama run mistral:latest &\n",
        "```"
      ],
      "metadata": {
        "id": "40Yi7u6ierJ1"
      }
    },
    {
      "cell_type": "markdown",
      "source": [
        "### Installing the necessary libraries"
      ],
      "metadata": {
        "id": "8aFu1jmCtOT5"
      }
    },
    {
      "cell_type": "code",
      "source": [
        "# Install all required packages\n",
        "!pip install -qU langgraph langchain_openai langchain_community langchain-tavily langfuse"
      ],
      "outputs": [
        {
          "output_type": "stream",
          "name": "stdout",
          "text": [
            "\u001b[2K     \u001b[90m━━━━━━━━━━━━━━━━━━━━━━━━━━━━━━━━━━━━━━━━\u001b[0m \u001b[32m43.7/43.7 kB\u001b[0m \u001b[31m3.4 MB/s\u001b[0m eta \u001b[36m0:00:00\u001b[0m\n",
            "\u001b[2K   \u001b[90m━━━━━━━━━━━━━━━━━━━━━━━━━━━━━━━━━━━━━━━━\u001b[0m \u001b[32m152.5/152.5 kB\u001b[0m \u001b[31m9.3 MB/s\u001b[0m eta \u001b[36m0:00:00\u001b[0m\n",
            "\u001b[2K   \u001b[90m━━━━━━━━━━━━━━━━━━━━━━━━━━━━━━━━━━━━━━━━\u001b[0m \u001b[32m70.6/70.6 kB\u001b[0m \u001b[31m6.4 MB/s\u001b[0m eta \u001b[36m0:00:00\u001b[0m\n",
            "\u001b[2K   \u001b[90m━━━━━━━━━━━━━━━━━━━━━━━━━━━━━━━━━━━━━━━━\u001b[0m \u001b[32m2.5/2.5 MB\u001b[0m \u001b[31m51.9 MB/s\u001b[0m eta \u001b[36m0:00:00\u001b[0m\n",
            "\u001b[2K   \u001b[90m━━━━━━━━━━━━━━━━━━━━━━━━━━━━━━━━━━━━━━━━\u001b[0m \u001b[32m299.3/299.3 kB\u001b[0m \u001b[31m25.4 MB/s\u001b[0m eta \u001b[36m0:00:00\u001b[0m\n",
            "\u001b[2K   \u001b[90m━━━━━━━━━━━━━━━━━━━━━━━━━━━━━━━━━━━━━━━━\u001b[0m \u001b[32m43.9/43.9 kB\u001b[0m \u001b[31m3.4 MB/s\u001b[0m eta \u001b[36m0:00:00\u001b[0m\n",
            "\u001b[2K   \u001b[90m━━━━━━━━━━━━━━━━━━━━━━━━━━━━━━━━━━━━━━━━\u001b[0m \u001b[32m50.6/50.6 kB\u001b[0m \u001b[31m4.4 MB/s\u001b[0m eta \u001b[36m0:00:00\u001b[0m\n",
            "\u001b[2K   \u001b[90m━━━━━━━━━━━━━━━━━━━━━━━━━━━━━━━━━━━━━━━━\u001b[0m \u001b[32m65.6/65.6 kB\u001b[0m \u001b[31m5.8 MB/s\u001b[0m eta \u001b[36m0:00:00\u001b[0m\n",
            "\u001b[2K   \u001b[90m━━━━━━━━━━━━━━━━━━━━━━━━━━━━━━━━━━━━━━━━\u001b[0m \u001b[32m72.5/72.5 kB\u001b[0m \u001b[31m6.9 MB/s\u001b[0m eta \u001b[36m0:00:00\u001b[0m\n",
            "\u001b[2K   \u001b[90m━━━━━━━━━━━━━━━━━━━━━━━━━━━━━━━━━━━━━━━━\u001b[0m \u001b[32m120.0/120.0 kB\u001b[0m \u001b[31m10.9 MB/s\u001b[0m eta \u001b[36m0:00:00\u001b[0m\n",
            "\u001b[2K   \u001b[90m━━━━━━━━━━━━━━━━━━━━━━━━━━━━━━━━━━━━━━━━\u001b[0m \u001b[32m201.6/201.6 kB\u001b[0m \u001b[31m20.1 MB/s\u001b[0m eta \u001b[36m0:00:00\u001b[0m\n",
            "\u001b[2K   \u001b[90m━━━━━━━━━━━━━━━━━━━━━━━━━━━━━━━━━━━━━━━━\u001b[0m \u001b[32m65.5/65.5 kB\u001b[0m \u001b[31m5.5 MB/s\u001b[0m eta \u001b[36m0:00:00\u001b[0m\n",
            "\u001b[2K   \u001b[90m━━━━━━━━━━━━━━━━━━━━━━━━━━━━━━━━━━━━━━━━\u001b[0m \u001b[32m45.2/45.2 kB\u001b[0m \u001b[31m3.4 MB/s\u001b[0m eta \u001b[36m0:00:00\u001b[0m\n",
            "\u001b[2K   \u001b[90m━━━━━━━━━━━━━━━━━━━━━━━━━━━━━━━━━━━━━━━━\u001b[0m \u001b[32m50.9/50.9 kB\u001b[0m \u001b[31m4.4 MB/s\u001b[0m eta \u001b[36m0:00:00\u001b[0m\n",
            "\u001b[2K   \u001b[90m━━━━━━━━━━━━━━━━━━━━━━━━━━━━━━━━━━━━━━━━\u001b[0m \u001b[32m216.5/216.5 kB\u001b[0m \u001b[31m19.2 MB/s\u001b[0m eta \u001b[36m0:00:00\u001b[0m\n",
            "\u001b[?25h"
          ]
        }
      ],
      "execution_count": 1,
      "metadata": {
        "id": "LFPCo6pFcnUk",
        "outputId": "733bb564-b8e8-4ac1-82b0-43f0b52c545f",
        "colab": {
          "base_uri": "https://localhost:8080/"
        }
      }
    },
    {
      "cell_type": "markdown",
      "source": [
        "\n",
        "\n",
        "### **Step 2: Configure Langfuse & API Keys**\n",
        "\n",
        "Next, we'll set up our credentials. You will need API keys from **Langfuse** (for observability) and **Tavily** (for the web search tool)."
      ],
      "metadata": {
        "id": "yR0vGHYIcnUl"
      }
    },
    {
      "cell_type": "code",
      "source": [
        "import os\n",
        "from getpass import getpass\n",
        "from langfuse import Langfuse\n",
        "\n",
        "#  Langfuse Configuration for Observability\n",
        "# Get keys from your Langfuse project at https://cloud.langfuse.com\n",
        "if \"LANGFUSE_PUBLIC_KEY\" not in os.environ:\n",
        "    os.environ[\"LANGFUSE_PUBLIC_KEY\"] = getpass(\"Enter your Langfuse Public Key: \")\n",
        "if \"LANGFUSE_SECRET_KEY\" not in os.environ:\n",
        "    os.environ[\"LANGFUSE_SECRET_KEY\"] = getpass(\"Enter your Langfuse Secret Key: \")\n",
        "if \"LANGFUSE_HOST\" not in os.environ:\n",
        "    os.environ[\"LANGFUSE_HOST\"] = \"https://us.cloud.langfuse.com\"\n",
        "\n",
        "# Initialize the Langfuse handler which will trace our runs\n",
        "langfuse_handler = Langfuse()\n",
        "\n",
        "#  Tavily API Key for the search tool\n",
        "if \"TAVILY_API_KEY\" not in os.environ:\n",
        "    os.environ[\"TAVILY_API_KEY\"] = getpass(\"Enter your Tavily API key: \")"
      ],
      "outputs": [
        {
          "name": "stdout",
          "output_type": "stream",
          "text": [
            "Enter your Langfuse Public Key: ··········\n",
            "Enter your Langfuse Secret Key: ··········\n",
            "Enter your Tavily API key: ··········\n"
          ]
        }
      ],
      "execution_count": 2,
      "metadata": {
        "id": "livbPHP7cnUl",
        "outputId": "e8eb6cf2-0686-45e3-c922-2567faa34744",
        "colab": {
          "base_uri": "https://localhost:8080/"
        }
      }
    },
    {
      "cell_type": "markdown",
      "source": [
        "\n",
        "\n",
        "### **Step 3: Initialize Models and Tools**\n",
        "\n",
        "We will configure our LLMs using the `ChatOpenAI` wrapper. This allows us to use LangChain's powerful tool-calling features with our local Ollama models."
      ],
      "metadata": {
        "id": "zpDaeVtOcnUm"
      }
    },
    {
      "cell_type": "code",
      "source": [
        "from langchain_openai import ChatOpenAI\n",
        "from langchain_tavily import TavilySearch\n",
        "\n",
        "#  Common Ollama Configuration\n",
        "OLLAMA_BASE_URL = \"http://localhost:11434/v1\"\n",
        "DUMMY_API_KEY = \"ollama\"\n",
        "\n",
        "granite_supervisor_llm = ChatOpenAI(\n",
        "    model=\"granite3.3:latest\",\n",
        "    api_key=DUMMY_API_KEY,\n",
        "    base_url=OLLAMA_BASE_URL,\n",
        "    temperature=0\n",
        ")\n",
        "\n",
        "granite_worker_llm = ChatOpenAI(\n",
        "    model=\"granite3.3:latest\",\n",
        "    api_key=DUMMY_API_KEY,\n",
        "    base_url=OLLAMA_BASE_URL,\n",
        "    temperature=0\n",
        ")\n",
        "\n",
        "mistral_worker_llm = ChatOpenAI(\n",
        "    model=\"mistral:latest\",\n",
        "    api_key=DUMMY_API_KEY,\n",
        "    base_url=OLLAMA_BASE_URL,\n",
        "    temperature=0.3\n",
        ")\n",
        "\n",
        "#  Tool Definition\n",
        "# The Market Analyst is the only role that needs a web search tool\n",
        "search_tool = TavilySearch(max_results=2)"
      ],
      "outputs": [],
      "execution_count": 3,
      "metadata": {
        "id": "iIzYZFEgcnUm"
      }
    },
    {
      "cell_type": "markdown",
      "source": [
        "### **Step 4: Define Agent State and Roles**\n",
        "\n",
        "Next, we define the shared `state` for our graph and create the specific agent `roles`. The `agent_map` is crucial for routing tasks to the correct model and tool configuration."
      ],
      "metadata": {
        "id": "laxR-c0PcnUm"
      }
    },
    {
      "cell_type": "code",
      "source": [
        "from typing import TypedDict, List, Dict, Annotated\n",
        "import operator\n",
        "from pydantic import BaseModel, Field\n",
        "\n",
        "#  Define the structure of a task\n",
        "class Task(BaseModel):\n",
        "    \"\"\"A task assigned to a specific role on the press release team.\"\"\"\n",
        "    role: str = Field(description=\"The role responsible for the task.\")\n",
        "    description: str = Field(description=\"A detailed description of the task.\")\n",
        "\n",
        "#  Define a Pydantic model to wrap the list of tasks\n",
        "class Tasks(BaseModel):\n",
        "    \"\"\"A list of tasks.\"\"\"\n",
        "    tasks: List[Task] = Field(description=\"The list of tasks.\")\n",
        "\n",
        "#  Define the graph's state\n",
        "class TeamState(TypedDict):\n",
        "    product_info: str\n",
        "    tasks: List[Task]\n",
        "    press_release_components: Annotated[List[Dict[str, str]], operator.add]\n",
        "    final_press_release: str\n",
        "\n",
        "#  Define Agent Runnables and Role Mapping\n",
        "# Agent with search tools (Granite)\n",
        "research_agent_runnable = granite_worker_llm.bind_tools([search_tool])\n",
        "# Agent for creative writing (Mistral)\n",
        "creative_agent_runnable = mistral_worker_llm\n",
        "# Agent for analytical/review tasks without tools (Granite)\n",
        "analytical_agent_runnable = granite_worker_llm\n",
        "\n",
        "# Map roles to their specific agent runnable and tools\n",
        "agent_map = {\n",
        "    \"Product Specialist\": analytical_agent_runnable,\n",
        "    \"Market Analyst\": research_agent_runnable,\n",
        "    \"Quote Writer\": creative_agent_runnable,\n",
        "    \"Legal Reviewer\": analytical_agent_runnable\n",
        "}"
      ],
      "outputs": [],
      "execution_count": 4,
      "metadata": {
        "id": "zRNTLgtLcnUn"
      }
    },
    {
      "cell_type": "markdown",
      "source": [
        "\n",
        "\n",
        "### **Step 5: Define Nodes and Supervisor Logic**\n",
        "\n",
        "We'll define two main nodes: a generic `worker_node` that can perform any of the four worker tasks, and the `PRDirector` supervisor node that orchestrates the entire process."
      ],
      "metadata": {
        "id": "t-JELybhcnUn"
      }
    },
    {
      "cell_type": "code",
      "source": [
        "from langchain_core.messages import HumanMessage\n",
        "\n",
        "#  Worker Node Definition\n",
        "def worker_node(task: dict) -> dict:\n",
        "    \"\"\"A generic worker node that executes tasks based on the assigned role.\"\"\"\n",
        "    # Rehydrate into your Pydantic Task model\n",
        "    task = Task(**task)\n",
        "\n",
        "    agent_runnable = agent_map[task.role]\n",
        "    print(f\" Worker '{task.role}' starting task... \")\n",
        "\n",
        "    # Invoke the correct agent with the task description\n",
        "    result = agent_runnable.invoke([HumanMessage(content=task.description)])\n",
        "\n",
        "    # If the agent made a tool call, execute it\n",
        "    if hasattr(result, \"tool_calls\") and result.tool_calls:\n",
        "        tool_call = result.tool_calls[0]\n",
        "        output = search_tool.invoke(tool_call[\"args\"])\n",
        "    else:\n",
        "        output = result.content\n",
        "\n",
        "    # Return the component in the shape expected by your reducer\n",
        "    return {\n",
        "        \"press_release_components\": [\n",
        "            {\"role\": task.role, \"component\": str(output)}\n",
        "        ]\n",
        "    }\n",
        "\n",
        "#  Supervisor Node Definition\n",
        "class PRDirector:\n",
        "    \"\"\"The supervisor agent, powered by Granite 3.3.\"\"\"\n",
        "    def __init__(self, llm):\n",
        "        self.llm = llm\n",
        "        # Use the new Tasks model for structured output\n",
        "        self.structured_llm = llm.with_structured_output(Tasks)\n",
        "\n",
        "    def __call__(self, state: TeamState):\n",
        "        if not state.get('tasks'):\n",
        "            # First step: Decompose the request into tasks for the 4 workers\n",
        "            print(\" PR Director (Granite): Decomposing request... \")\n",
        "            prompt = f\"\"\"You are the PR Director for a major tech company. A new product launch is imminent.\n",
        "            Based on the following product info, create four specific tasks for your team:\n",
        "            1. 'Product Specialist': Summarize the key features and specs into 3-4 bullet points.\n",
        "            2. 'Market Analyst': Research how two major competitors are positioning similar products.\n",
        "            3. 'Quote Writer': Draft a creative and exciting quote from the CEO about this launch.\n",
        "            4. 'Legal Reviewer': Write a standard legal disclaimer for press releases about forward-looking statements.\n",
        "\n",
        "            Provide the output as a JSON object with a single key 'tasks' containing a list of task objects.\n",
        "\n",
        "            Product Info: {state['product_info']}\"\"\"\n",
        "            # The output will be a Tasks object, so extract the tasks list\n",
        "            tasks = self.structured_llm.invoke(prompt).tasks\n",
        "            return {\"tasks\": tasks}\n",
        "        else:\n",
        "            # Final step: Aggregate components and write the final press release\n",
        "            print(\" PR Director (Granite): Synthesizing final press release... \")\n",
        "            components = \"\\n\\n\\n\\n\".join(\n",
        "                f\"### Component from {res['role']}:\\n{res['component']}\"\n",
        "                for res in state['press_release_components']\n",
        "            )\n",
        "            prompt = f\"\"\"You are the PR Director. Your team has provided all the necessary components for the press release.\n",
        "            Assemble them into a final, professional, and compelling press release document.\n",
        "            Ensure it has a catchy headline, a strong introduction, incorporates the product features and CEO quote smoothly, and ends with the legal disclaimer.\n",
        "\n",
        "            Team's Components:\n",
        "            {components}\"\"\"\n",
        "            final_press_release = self.llm.invoke(prompt).content\n",
        "            return {\"final_press_release\": final_press_release}"
      ],
      "outputs": [],
      "execution_count": 5,
      "metadata": {
        "id": "tUTiCZkvcnUn"
      }
    },
    {
      "cell_type": "markdown",
      "source": [
        "\n",
        "\n",
        "### **Step 6: Construct the Hierarchical Graph**\n",
        "\n",
        "Now we wire the nodes together. LangGraph's `.map()` feature is key here, as it allows us to run our four worker tasks in parallel."
      ],
      "metadata": {
        "id": "QLo7Tr_2cnUn"
      }
    },
    {
      "cell_type": "code",
      "source": [
        "from langgraph.graph import StateGraph, END\n",
        "from langgraph.types import Send\n",
        "from langchain_core.messages import HumanMessage\n",
        "\n",
        "# helper to slugify role names\n",
        "def slug(role: str) -> str:\n",
        "    return role.lower().replace(\" \", \"_\")\n",
        "\n",
        "# Build the graph\n",
        "workflow = StateGraph(TeamState)\n",
        "workflow.add_node(\"pr_director\", PRDirector(granite_supervisor_llm))\n",
        "\n",
        "# Add one worker‐node per role\n",
        "for role, runnable in agent_map.items():\n",
        "    node_name = slug(role)\n",
        "\n",
        "    def make_worker(runnable):\n",
        "        # This inner fn will be the actual node\n",
        "        def _worker(task_data: dict) -> dict:\n",
        "            # 1) rehydrate into your Task model\n",
        "            task = Task(**task_data)\n",
        "\n",
        "            # 2) pick the right LLM/tools\n",
        "            agent = runnable\n",
        "            print(f\" 👷 Worker '{task.role}' starting task... \")\n",
        "\n",
        "            # 3) invoke and possibly call the search tool\n",
        "            result = agent.invoke([HumanMessage(content=task.description)])\n",
        "            if getattr(result, \"tool_calls\", None):\n",
        "                call = result.tool_calls[0]\n",
        "                output = search_tool.invoke(call[\"args\"])\n",
        "            else:\n",
        "                output = result.content\n",
        "\n",
        "            # 4) return in the reducer‐friendly shape\n",
        "            return {\n",
        "                \"press_release_components\": [\n",
        "                    {\"role\": task.role, \"component\": str(output)}\n",
        "                ]\n",
        "            }\n",
        "        return _worker\n",
        "\n",
        "    workflow.add_node(node_name, make_worker(runnable))\n",
        "\n",
        "# Entry point\n",
        "workflow.set_entry_point(\"pr_director\")\n",
        "\n",
        "# Fan‐out to each role‐node\n",
        "def fan_out_tasks(state: TeamState):\n",
        "    # only dispatch once\n",
        "    if not state.get(\"tasks\") or state.get(\"press_release_components\"):\n",
        "        return []\n",
        "\n",
        "    product_info = state[\"product_info\"]\n",
        "    sends: list[Send] = []\n",
        "    for task in state[\"tasks\"]:\n",
        "        node_name = slug(task.role)\n",
        "        # build a description that includes both the context & the instruction\n",
        "        description = (\n",
        "            f\"Product Info:\\n{product_info}\\n\\n\"\n",
        "            f\"Your assignment: {task.description}\"\n",
        "        )\n",
        "        sends.append(\n",
        "            Send(\n",
        "                node_name,\n",
        "                {\n",
        "                    \"role\":        task.role,\n",
        "                    \"description\": description,\n",
        "                },\n",
        "            )\n",
        "        )\n",
        "    return sends\n",
        "\n",
        "workflow.add_conditional_edges(\n",
        "    \"pr_director\",\n",
        "    fan_out_tasks,\n",
        "    [slug(r) for r in agent_map],\n",
        ")\n",
        "\n",
        "# Fan‐in: every role‐node wires back to the director\n",
        "for role in agent_map:\n",
        "    workflow.add_edge(slug(role), \"pr_director\")\n",
        "\n",
        "# Terminate when final_press_release exists\n",
        "workflow.add_conditional_edges(\n",
        "    \"pr_director\",\n",
        "    lambda s: END if s.get(\"final_press_release\") else [],\n",
        ")\n",
        "\n",
        "graph = workflow.compile()\n"
      ],
      "metadata": {
        "id": "2vVOpEBQvRtN"
      },
      "execution_count": 6,
      "outputs": []
    },
    {
      "cell_type": "code",
      "source": [
        "from IPython.display import Image, display\n",
        "\n",
        "try:\n",
        "    display(Image(graph.get_graph().draw_mermaid_png()))\n",
        "except Exception:\n",
        "    # This requires some extra dependencies and is optional\n",
        "    pass"
      ],
      "metadata": {
        "id": "uk5a6TN0dHfR",
        "outputId": "21f83b15-1c80-4208-992a-0161bbbe3324",
        "colab": {
          "base_uri": "https://localhost:8080/",
          "height": 266
        }
      },
      "execution_count": 7,
      "outputs": [
        {
          "output_type": "display_data",
          "data": {
            "image/png": "[encoded data removed]",
            "text/plain": [
              "<IPython.core.display.Image object>"
            ]
          },
          "metadata": {}
        }
      ]
    },
    {
      "cell_type": "markdown",
      "source": [
        "\n",
        "\n",
        "### **Step 7: Run the Team with Full Observability**\n",
        "\n",
        "Finally, let's give our AI team a product to launch and observe their work in Langfuse."
      ],
      "metadata": {
        "id": "ktgBpgH4cnUo"
      }
    },
    {
      "cell_type": "code",
      "source": [
        "from langchain_core.runnables import RunnableConfig\n",
        "from langfuse import get_client\n",
        "from langfuse.langchain import CallbackHandler\n",
        "from langgraph.errors import GraphRecursionError\n",
        "\n",
        "client            = get_client()\n",
        "langfuse_handler  = CallbackHandler()\n",
        "\n",
        "config = RunnableConfig(\n",
        "    callbacks=[langfuse_handler],\n",
        "    recursion_limit=5,\n",
        "    configurable={\n",
        "        \"session_id\": \"press-release-team-run-1\",\n",
        "        \"thread_id\":  \"press-release-team-thread-1\"\n",
        "    }\n",
        ")\n",
        "\n",
        "initial_state = {\n",
        "    \"product_info\": (\n",
        "        \"Product Name: 'Chronos-1'. Category: Smartwatch. \"\n",
        "        \"Key Features: 7-day battery life, advanced sleep tracking with REM analysis, \"\n",
        "        \"solar charging, titanium casing, integrated AI assistant for real-time translation.\"\n",
        "    ),\n",
        "    \"press_release_components\": [],\n",
        "    \"tasks\": [],\n",
        "}\n",
        "\n",
        "print(\" Launching…\")\n",
        "try:\n",
        "    final_state = graph.invoke(initial_state, config=config)\n",
        "    client.flush()\n",
        "\n",
        "    #sid = config.configurable[\"session_id\"]\n",
        "    #print(f\"🔗 View your run in Langfuse: https://us.cloud.langfuse.com/app/<YOUR-PROJECT-ID>/sessions/{sid}\")\n",
        "\n",
        "except GraphRecursionError as e:\n",
        "    print(f\"⚠️ Recursion limit reached: {e}\")\n",
        "    client.flush()\n",
        "\n",
        "    #sid = config.configurable[\"session_id\"]\n",
        "    #print(f\"🔗 View partial run in Langfuse: https://us.cloud.langfuse.com/app/<YOUR-PROJECT-ID>/sessions/{sid}\")\n",
        "\n",
        "    # fetch the last persisted state\n",
        "    snapshot = graph.get_state(config)\n",
        "    partial = snapshot.values.get(\"press_release_components\", [])\n",
        "\n",
        "    partial_release = \"\\n\\n\\n\\n\".join(\n",
        "        f\"### Component from {c['role']}:\\n{c['component']}\"\n",
        "        for c in partial\n",
        "    )\n",
        "\n",
        "    print(\"\\n PARTIAL RELEASE:\")\n",
        "    print(partial_release)\n",
        "\n",
        "    final_state = {\"final_press_release\": partial_release}\n",
        "\n",
        "print(\"\\n\" + \"=\"*60)\n",
        "print(\"✅ FINAL PRESS RELEASE\")\n",
        "print(\"=\"*60)\n",
        "print(final_state[\"final_press_release\"])\n"
      ],
      "outputs": [
        {
          "output_type": "stream",
          "name": "stdout",
          "text": [
            " Launching…\n",
            " PR Director (Granite): Decomposing request... \n",
            " 👷 Worker 'Product Specialist' starting task...  👷 Worker 'Market Analyst' starting task... \n",
            "\n",
            " 👷 Worker 'Quote Writer' starting task... \n",
            " 👷 Worker 'Legal Reviewer' starting task... \n",
            " PR Director (Granite): Synthesizing final press release... \n",
            "\n",
            "============================================================\n",
            "✅ FINAL PRESS RELEASE\n",
            "============================================================\n",
            "**FOR IMMEDIATE RELEASE**\n",
            "\n",
            "**Chronos Inc. Unveils Chronos-1: The Future of Wearable Technology**\n",
            "\n",
            "[City, State] – [Date] – Chronos Inc., a leader in innovative wearable technology, is thrilled to announce the launch of its groundbreaking product, the Chronos-1 smartwatch. This revolutionary device transcends traditional timekeeping by integrating cutting-edge features designed to enhance users' lifestyles and wellbeing.\n",
            "\n",
            "The Chronos-1 boasts an impressive 7-day battery life, setting it apart from competitors in the market. With advanced sleep tracking capabilities that include REM analysis, this smartwatch offers comprehensive insights into sleep quality and stages, empowering users to make data-driven decisions for better rest.\n",
            "\n",
            "\"Prepare to embark on an extraordinary journey through time, as we unveil Chronos-1 - the smartwatch that transcends the boundaries of technology! With its revolutionary 7-day battery life, advanced sleep tracking, solar charging capabilities, and a sleek titanium casing, this isn't just a watch; it's your personal timekeeper and lifestyle companion. And with an integrated AI assistant for real-time translation, the world is now at your fingertips!\"\n",
            "\n",
            "- CEO, Chronos Inc.\n",
            "\n",
            "In addition to its remarkable battery performance and sleep tracking prowess, the Chronos-1 features solar charging technology, providing a sustainable power solution. Its robust titanium casing ensures durability while offering a premium feel. The integrated AI assistant further elevates the device by facilitating real-time translation across different languages, seamlessly connecting users with the global community.\n",
            "\n",
            "While Chronos Inc. is confident in the Chronos-1's competitive edge and market potential, it acknowledges the inherent risks associated with technological advancements and market dynamics. Factors such as rapid technological changes, varying consumer preferences, regulatory compliance, economic conditions, and supply chain disruptions may impact product performance and market acceptance.\n",
            "\n",
            "Chronos Inc. remains committed to transparency and cautions investors and consumers about the forward-looking nature of this announcement. The company undertakes no obligation to update any forward-looking statements contained in this press release unless required by law.\n",
            "\n",
            "For further information, please contact our Investor Relations department at [contact details].\n",
            "\n",
            "**About Chronos Inc.**\n",
            "Chronos Inc. is dedicated to developing and delivering high-quality wearable technology that enhances users' lives through innovative features and superior performance. With a focus on research and development, Chronos Inc. continues to push the boundaries of what's possible in personal electronics.\n",
            "\n",
            "###\n",
            "\n",
            "**Legal Disclaimer for Forward-Looking Statements**\n",
            "\n",
            "This press release contains \"forward-looking statements\" within the meaning of the Private Securities Litigation Reform Act of 1995. These forward-looking statements include, but are not limited to, statements regarding the Chronos-1 smartwatch's features, performance capabilities, and market positioning. Such statements involve risks and uncertainties that could cause actual results to differ materially from those projected.\n",
            "\n",
            "Forward-looking statements are based on current expectations, estimates, and projections about future events. Important factors that could cause actual outcomes to differ include, without limitation: Technological Developments, Market Acceptance, Battery Life Claims, Solar Charging Efficiency, Material Durability, AI Assistant Functionality, Regulatory Compliance, Economic Conditions, Competitive Landscape, Supply Chain Disruptions, and other risks detailed in the company's filings with the Securities and Exchange Commission.\n",
            "\n",
            "Readers are cautioned not to place undue reliance on these forward-looking statements, which speak only as of the date hereof. Chronos Inc. undertakes no obligation to publicly update or revise any forward-looking statements, whether as a result of new information, future events, or otherwise, except as required by law.\n",
            "\n",
            "[End of Press Release]\n"
          ]
        }
      ],
      "execution_count": 8,
      "metadata": {
        "id": "ZTXqIVGucnUo",
        "outputId": "30999e7b-9964-459a-8b0f-8e5b24d550fa",
        "colab": {
          "base_uri": "https://localhost:8080/"
        }
      }
    }
  ],
  "metadata": {
    "colab": {
      "provenance": [],
      "collapsed_sections": [
        "8aFu1jmCtOT5"
      ],
      "gpuType": "T4",
      "include_colab_link": true
    },
    "kernelspec": {
      "display_name": "Python 3",
      "name": "python3"
    },
    "accelerator": "GPU"
  },
  "nbformat": 4,
  "nbformat_minor": 0
}